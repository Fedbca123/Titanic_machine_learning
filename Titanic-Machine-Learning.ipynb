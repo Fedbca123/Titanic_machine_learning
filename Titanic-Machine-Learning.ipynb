{
 "cells": [
  {
   "cell_type": "code",
   "execution_count": 1,
   "id": "e1c783bc",
   "metadata": {
    "_cell_guid": "b1076dfc-b9ad-4769-8c92-a6c4dae69d19",
    "_uuid": "8f2839f25d086af736a60e9eeb907d3b93b6e0e5",
    "execution": {
     "iopub.execute_input": "2021-09-26T04:55:00.163937Z",
     "iopub.status.busy": "2021-09-26T04:55:00.162180Z",
     "iopub.status.idle": "2021-09-26T04:55:00.178455Z",
     "shell.execute_reply": "2021-09-26T04:55:00.178960Z",
     "shell.execute_reply.started": "2021-09-26T04:54:34.450393Z"
    },
    "papermill": {
     "duration": 0.045555,
     "end_time": "2021-09-26T04:55:00.179243",
     "exception": false,
     "start_time": "2021-09-26T04:55:00.133688",
     "status": "completed"
    },
    "tags": []
   },
   "outputs": [
    {
     "name": "stdout",
     "output_type": "stream",
     "text": [
      "/kaggle/input/titanic/train.csv\n",
      "/kaggle/input/titanic/test.csv\n",
      "/kaggle/input/titanic/gender_submission.csv\n"
     ]
    }
   ],
   "source": [
    "# This Python 3 environment comes with many helpful analytics libraries installed\n",
    "# It is defined by the kaggle/python Docker image: https://github.com/kaggle/docker-python\n",
    "# For example, here's several helpful packages to load\n",
    "\n",
    "import numpy as np # linear algebra\n",
    "import pandas as pd # data processing, CSV file I/O (e.g. pd.read_csv)\n",
    "\n",
    "# Input data files are available in the read-only \"../input/\" directory\n",
    "# For example, running this (by clicking run or pressing Shift+Enter) will list all files under the input directory\n",
    "\n",
    "import os\n",
    "for dirname, _, filenames in os.walk('/kaggle/input'):\n",
    "    for filename in filenames:\n",
    "        print(os.path.join(dirname, filename))\n",
    "\n",
    "# You can write up to 20GB to the current directory (/kaggle/working/) that gets preserved as output when you create a version using \"Save & Run All\" \n",
    "# You can also write temporary files to /kaggle/temp/, but they won't be saved outside of the current session"
   ]
  },
  {
   "cell_type": "code",
   "execution_count": 2,
   "id": "1bdebb55",
   "metadata": {
    "execution": {
     "iopub.execute_input": "2021-09-26T04:55:00.223243Z",
     "iopub.status.busy": "2021-09-26T04:55:00.220833Z",
     "iopub.status.idle": "2021-09-26T04:55:01.356297Z",
     "shell.execute_reply": "2021-09-26T04:55:01.355430Z",
     "shell.execute_reply.started": "2021-09-26T04:54:34.462729Z"
    },
    "papermill": {
     "duration": 1.158644,
     "end_time": "2021-09-26T04:55:01.356435",
     "exception": false,
     "start_time": "2021-09-26T04:55:00.197791",
     "status": "completed"
    },
    "tags": []
   },
   "outputs": [],
   "source": [
    "#importing all the necessary packages now for later when building all the models.\n",
    "from sklearn.neighbors import KNeighborsClassifier\n",
    "from sklearn.linear_model import LinearRegression\n",
    "from sklearn.tree import DecisionTreeClassifier\n",
    "from sklearn.linear_model import SGDClassifier\n",
    "import seaborn as sns\n",
    "import matplotlib.pyplot as plt\n",
    "import numpy as np"
   ]
  },
  {
   "cell_type": "markdown",
   "id": "1d6216ac",
   "metadata": {
    "papermill": {
     "duration": 0.0174,
     "end_time": "2021-09-26T04:55:01.391725",
     "exception": false,
     "start_time": "2021-09-26T04:55:01.374325",
     "status": "completed"
    },
    "tags": []
   },
   "source": [
    "# Loading Data"
   ]
  },
  {
   "cell_type": "code",
   "execution_count": 3,
   "id": "964ca646",
   "metadata": {
    "execution": {
     "iopub.execute_input": "2021-09-26T04:55:01.431343Z",
     "iopub.status.busy": "2021-09-26T04:55:01.430578Z",
     "iopub.status.idle": "2021-09-26T04:55:01.463458Z",
     "shell.execute_reply": "2021-09-26T04:55:01.463954Z",
     "shell.execute_reply.started": "2021-09-26T04:54:34.469854Z"
    },
    "papermill": {
     "duration": 0.054984,
     "end_time": "2021-09-26T04:55:01.464119",
     "exception": false,
     "start_time": "2021-09-26T04:55:01.409135",
     "status": "completed"
    },
    "tags": []
   },
   "outputs": [
    {
     "data": {
      "text/html": [
       "<div>\n",
       "<style scoped>\n",
       "    .dataframe tbody tr th:only-of-type {\n",
       "        vertical-align: middle;\n",
       "    }\n",
       "\n",
       "    .dataframe tbody tr th {\n",
       "        vertical-align: top;\n",
       "    }\n",
       "\n",
       "    .dataframe thead th {\n",
       "        text-align: right;\n",
       "    }\n",
       "</style>\n",
       "<table border=\"1\" class=\"dataframe\">\n",
       "  <thead>\n",
       "    <tr style=\"text-align: right;\">\n",
       "      <th></th>\n",
       "      <th>PassengerId</th>\n",
       "      <th>Survived</th>\n",
       "      <th>Pclass</th>\n",
       "      <th>Name</th>\n",
       "      <th>Sex</th>\n",
       "      <th>Age</th>\n",
       "      <th>SibSp</th>\n",
       "      <th>Parch</th>\n",
       "      <th>Ticket</th>\n",
       "      <th>Fare</th>\n",
       "      <th>Cabin</th>\n",
       "      <th>Embarked</th>\n",
       "    </tr>\n",
       "  </thead>\n",
       "  <tbody>\n",
       "    <tr>\n",
       "      <th>0</th>\n",
       "      <td>1</td>\n",
       "      <td>0</td>\n",
       "      <td>3</td>\n",
       "      <td>Braund, Mr. Owen Harris</td>\n",
       "      <td>male</td>\n",
       "      <td>22.0</td>\n",
       "      <td>1</td>\n",
       "      <td>0</td>\n",
       "      <td>A/5 21171</td>\n",
       "      <td>7.2500</td>\n",
       "      <td>NaN</td>\n",
       "      <td>S</td>\n",
       "    </tr>\n",
       "    <tr>\n",
       "      <th>1</th>\n",
       "      <td>2</td>\n",
       "      <td>1</td>\n",
       "      <td>1</td>\n",
       "      <td>Cumings, Mrs. John Bradley (Florence Briggs Th...</td>\n",
       "      <td>female</td>\n",
       "      <td>38.0</td>\n",
       "      <td>1</td>\n",
       "      <td>0</td>\n",
       "      <td>PC 17599</td>\n",
       "      <td>71.2833</td>\n",
       "      <td>C85</td>\n",
       "      <td>C</td>\n",
       "    </tr>\n",
       "    <tr>\n",
       "      <th>2</th>\n",
       "      <td>3</td>\n",
       "      <td>1</td>\n",
       "      <td>3</td>\n",
       "      <td>Heikkinen, Miss. Laina</td>\n",
       "      <td>female</td>\n",
       "      <td>26.0</td>\n",
       "      <td>0</td>\n",
       "      <td>0</td>\n",
       "      <td>STON/O2. 3101282</td>\n",
       "      <td>7.9250</td>\n",
       "      <td>NaN</td>\n",
       "      <td>S</td>\n",
       "    </tr>\n",
       "    <tr>\n",
       "      <th>3</th>\n",
       "      <td>4</td>\n",
       "      <td>1</td>\n",
       "      <td>1</td>\n",
       "      <td>Futrelle, Mrs. Jacques Heath (Lily May Peel)</td>\n",
       "      <td>female</td>\n",
       "      <td>35.0</td>\n",
       "      <td>1</td>\n",
       "      <td>0</td>\n",
       "      <td>113803</td>\n",
       "      <td>53.1000</td>\n",
       "      <td>C123</td>\n",
       "      <td>S</td>\n",
       "    </tr>\n",
       "    <tr>\n",
       "      <th>4</th>\n",
       "      <td>5</td>\n",
       "      <td>0</td>\n",
       "      <td>3</td>\n",
       "      <td>Allen, Mr. William Henry</td>\n",
       "      <td>male</td>\n",
       "      <td>35.0</td>\n",
       "      <td>0</td>\n",
       "      <td>0</td>\n",
       "      <td>373450</td>\n",
       "      <td>8.0500</td>\n",
       "      <td>NaN</td>\n",
       "      <td>S</td>\n",
       "    </tr>\n",
       "  </tbody>\n",
       "</table>\n",
       "</div>"
      ],
      "text/plain": [
       "   PassengerId  Survived  Pclass  \\\n",
       "0            1         0       3   \n",
       "1            2         1       1   \n",
       "2            3         1       3   \n",
       "3            4         1       1   \n",
       "4            5         0       3   \n",
       "\n",
       "                                                Name     Sex   Age  SibSp  \\\n",
       "0                            Braund, Mr. Owen Harris    male  22.0      1   \n",
       "1  Cumings, Mrs. John Bradley (Florence Briggs Th...  female  38.0      1   \n",
       "2                             Heikkinen, Miss. Laina  female  26.0      0   \n",
       "3       Futrelle, Mrs. Jacques Heath (Lily May Peel)  female  35.0      1   \n",
       "4                           Allen, Mr. William Henry    male  35.0      0   \n",
       "\n",
       "   Parch            Ticket     Fare Cabin Embarked  \n",
       "0      0         A/5 21171   7.2500   NaN        S  \n",
       "1      0          PC 17599  71.2833   C85        C  \n",
       "2      0  STON/O2. 3101282   7.9250   NaN        S  \n",
       "3      0            113803  53.1000  C123        S  \n",
       "4      0            373450   8.0500   NaN        S  "
      ]
     },
     "execution_count": 3,
     "metadata": {},
     "output_type": "execute_result"
    }
   ],
   "source": [
    "train_data = pd.read_csv(\"/kaggle/input/titanic/train.csv\")\n",
    "train_data.head()"
   ]
  },
  {
   "cell_type": "code",
   "execution_count": 4,
   "id": "e965d072",
   "metadata": {
    "execution": {
     "iopub.execute_input": "2021-09-26T04:55:01.503251Z",
     "iopub.status.busy": "2021-09-26T04:55:01.502696Z",
     "iopub.status.idle": "2021-09-26T04:55:01.551884Z",
     "shell.execute_reply": "2021-09-26T04:55:01.551391Z",
     "shell.execute_reply.started": "2021-09-26T04:54:34.497967Z"
    },
    "papermill": {
     "duration": 0.069626,
     "end_time": "2021-09-26T04:55:01.552039",
     "exception": false,
     "start_time": "2021-09-26T04:55:01.482413",
     "status": "completed"
    },
    "tags": []
   },
   "outputs": [
    {
     "name": "stdout",
     "output_type": "stream",
     "text": [
      "(891, 12)\n",
      "<class 'pandas.core.frame.DataFrame'>\n",
      "RangeIndex: 891 entries, 0 to 890\n",
      "Data columns (total 12 columns):\n",
      " #   Column       Non-Null Count  Dtype  \n",
      "---  ------       --------------  -----  \n",
      " 0   PassengerId  891 non-null    int64  \n",
      " 1   Survived     891 non-null    int64  \n",
      " 2   Pclass       891 non-null    int64  \n",
      " 3   Name         891 non-null    object \n",
      " 4   Sex          891 non-null    object \n",
      " 5   Age          714 non-null    float64\n",
      " 6   SibSp        891 non-null    int64  \n",
      " 7   Parch        891 non-null    int64  \n",
      " 8   Ticket       891 non-null    object \n",
      " 9   Fare         891 non-null    float64\n",
      " 10  Cabin        204 non-null    object \n",
      " 11  Embarked     889 non-null    object \n",
      "dtypes: float64(2), int64(5), object(5)\n",
      "memory usage: 83.7+ KB\n"
     ]
    },
    {
     "data": {
      "text/html": [
       "<div>\n",
       "<style scoped>\n",
       "    .dataframe tbody tr th:only-of-type {\n",
       "        vertical-align: middle;\n",
       "    }\n",
       "\n",
       "    .dataframe tbody tr th {\n",
       "        vertical-align: top;\n",
       "    }\n",
       "\n",
       "    .dataframe thead th {\n",
       "        text-align: right;\n",
       "    }\n",
       "</style>\n",
       "<table border=\"1\" class=\"dataframe\">\n",
       "  <thead>\n",
       "    <tr style=\"text-align: right;\">\n",
       "      <th></th>\n",
       "      <th>PassengerId</th>\n",
       "      <th>Survived</th>\n",
       "      <th>Pclass</th>\n",
       "      <th>Age</th>\n",
       "      <th>SibSp</th>\n",
       "      <th>Parch</th>\n",
       "      <th>Fare</th>\n",
       "    </tr>\n",
       "  </thead>\n",
       "  <tbody>\n",
       "    <tr>\n",
       "      <th>count</th>\n",
       "      <td>891.000000</td>\n",
       "      <td>891.000000</td>\n",
       "      <td>891.000000</td>\n",
       "      <td>714.000000</td>\n",
       "      <td>891.000000</td>\n",
       "      <td>891.000000</td>\n",
       "      <td>891.000000</td>\n",
       "    </tr>\n",
       "    <tr>\n",
       "      <th>mean</th>\n",
       "      <td>446.000000</td>\n",
       "      <td>0.383838</td>\n",
       "      <td>2.308642</td>\n",
       "      <td>29.699118</td>\n",
       "      <td>0.523008</td>\n",
       "      <td>0.381594</td>\n",
       "      <td>32.204208</td>\n",
       "    </tr>\n",
       "    <tr>\n",
       "      <th>std</th>\n",
       "      <td>257.353842</td>\n",
       "      <td>0.486592</td>\n",
       "      <td>0.836071</td>\n",
       "      <td>14.526497</td>\n",
       "      <td>1.102743</td>\n",
       "      <td>0.806057</td>\n",
       "      <td>49.693429</td>\n",
       "    </tr>\n",
       "    <tr>\n",
       "      <th>min</th>\n",
       "      <td>1.000000</td>\n",
       "      <td>0.000000</td>\n",
       "      <td>1.000000</td>\n",
       "      <td>0.420000</td>\n",
       "      <td>0.000000</td>\n",
       "      <td>0.000000</td>\n",
       "      <td>0.000000</td>\n",
       "    </tr>\n",
       "    <tr>\n",
       "      <th>25%</th>\n",
       "      <td>223.500000</td>\n",
       "      <td>0.000000</td>\n",
       "      <td>2.000000</td>\n",
       "      <td>20.125000</td>\n",
       "      <td>0.000000</td>\n",
       "      <td>0.000000</td>\n",
       "      <td>7.910400</td>\n",
       "    </tr>\n",
       "    <tr>\n",
       "      <th>50%</th>\n",
       "      <td>446.000000</td>\n",
       "      <td>0.000000</td>\n",
       "      <td>3.000000</td>\n",
       "      <td>28.000000</td>\n",
       "      <td>0.000000</td>\n",
       "      <td>0.000000</td>\n",
       "      <td>14.454200</td>\n",
       "    </tr>\n",
       "    <tr>\n",
       "      <th>75%</th>\n",
       "      <td>668.500000</td>\n",
       "      <td>1.000000</td>\n",
       "      <td>3.000000</td>\n",
       "      <td>38.000000</td>\n",
       "      <td>1.000000</td>\n",
       "      <td>0.000000</td>\n",
       "      <td>31.000000</td>\n",
       "    </tr>\n",
       "    <tr>\n",
       "      <th>max</th>\n",
       "      <td>891.000000</td>\n",
       "      <td>1.000000</td>\n",
       "      <td>3.000000</td>\n",
       "      <td>80.000000</td>\n",
       "      <td>8.000000</td>\n",
       "      <td>6.000000</td>\n",
       "      <td>512.329200</td>\n",
       "    </tr>\n",
       "  </tbody>\n",
       "</table>\n",
       "</div>"
      ],
      "text/plain": [
       "       PassengerId    Survived      Pclass         Age       SibSp  \\\n",
       "count   891.000000  891.000000  891.000000  714.000000  891.000000   \n",
       "mean    446.000000    0.383838    2.308642   29.699118    0.523008   \n",
       "std     257.353842    0.486592    0.836071   14.526497    1.102743   \n",
       "min       1.000000    0.000000    1.000000    0.420000    0.000000   \n",
       "25%     223.500000    0.000000    2.000000   20.125000    0.000000   \n",
       "50%     446.000000    0.000000    3.000000   28.000000    0.000000   \n",
       "75%     668.500000    1.000000    3.000000   38.000000    1.000000   \n",
       "max     891.000000    1.000000    3.000000   80.000000    8.000000   \n",
       "\n",
       "            Parch        Fare  \n",
       "count  891.000000  891.000000  \n",
       "mean     0.381594   32.204208  \n",
       "std      0.806057   49.693429  \n",
       "min      0.000000    0.000000  \n",
       "25%      0.000000    7.910400  \n",
       "50%      0.000000   14.454200  \n",
       "75%      0.000000   31.000000  \n",
       "max      6.000000  512.329200  "
      ]
     },
     "execution_count": 4,
     "metadata": {},
     "output_type": "execute_result"
    }
   ],
   "source": [
    "print(train_data.shape)\n",
    "train_data.info()\n",
    "train_data.describe()"
   ]
  },
  {
   "cell_type": "code",
   "execution_count": 5,
   "id": "a1c52ca6",
   "metadata": {
    "execution": {
     "iopub.execute_input": "2021-09-26T04:55:01.595417Z",
     "iopub.status.busy": "2021-09-26T04:55:01.594737Z",
     "iopub.status.idle": "2021-09-26T04:55:01.613744Z",
     "shell.execute_reply": "2021-09-26T04:55:01.613275Z",
     "shell.execute_reply.started": "2021-09-26T04:54:34.540958Z"
    },
    "papermill": {
     "duration": 0.042114,
     "end_time": "2021-09-26T04:55:01.613896",
     "exception": false,
     "start_time": "2021-09-26T04:55:01.571782",
     "status": "completed"
    },
    "tags": []
   },
   "outputs": [
    {
     "data": {
      "text/html": [
       "<div>\n",
       "<style scoped>\n",
       "    .dataframe tbody tr th:only-of-type {\n",
       "        vertical-align: middle;\n",
       "    }\n",
       "\n",
       "    .dataframe tbody tr th {\n",
       "        vertical-align: top;\n",
       "    }\n",
       "\n",
       "    .dataframe thead th {\n",
       "        text-align: right;\n",
       "    }\n",
       "</style>\n",
       "<table border=\"1\" class=\"dataframe\">\n",
       "  <thead>\n",
       "    <tr style=\"text-align: right;\">\n",
       "      <th></th>\n",
       "      <th>PassengerId</th>\n",
       "      <th>Pclass</th>\n",
       "      <th>Name</th>\n",
       "      <th>Sex</th>\n",
       "      <th>Age</th>\n",
       "      <th>SibSp</th>\n",
       "      <th>Parch</th>\n",
       "      <th>Ticket</th>\n",
       "      <th>Fare</th>\n",
       "      <th>Cabin</th>\n",
       "      <th>Embarked</th>\n",
       "    </tr>\n",
       "  </thead>\n",
       "  <tbody>\n",
       "    <tr>\n",
       "      <th>0</th>\n",
       "      <td>892</td>\n",
       "      <td>3</td>\n",
       "      <td>Kelly, Mr. James</td>\n",
       "      <td>male</td>\n",
       "      <td>34.5</td>\n",
       "      <td>0</td>\n",
       "      <td>0</td>\n",
       "      <td>330911</td>\n",
       "      <td>7.8292</td>\n",
       "      <td>NaN</td>\n",
       "      <td>Q</td>\n",
       "    </tr>\n",
       "    <tr>\n",
       "      <th>1</th>\n",
       "      <td>893</td>\n",
       "      <td>3</td>\n",
       "      <td>Wilkes, Mrs. James (Ellen Needs)</td>\n",
       "      <td>female</td>\n",
       "      <td>47.0</td>\n",
       "      <td>1</td>\n",
       "      <td>0</td>\n",
       "      <td>363272</td>\n",
       "      <td>7.0000</td>\n",
       "      <td>NaN</td>\n",
       "      <td>S</td>\n",
       "    </tr>\n",
       "    <tr>\n",
       "      <th>2</th>\n",
       "      <td>894</td>\n",
       "      <td>2</td>\n",
       "      <td>Myles, Mr. Thomas Francis</td>\n",
       "      <td>male</td>\n",
       "      <td>62.0</td>\n",
       "      <td>0</td>\n",
       "      <td>0</td>\n",
       "      <td>240276</td>\n",
       "      <td>9.6875</td>\n",
       "      <td>NaN</td>\n",
       "      <td>Q</td>\n",
       "    </tr>\n",
       "    <tr>\n",
       "      <th>3</th>\n",
       "      <td>895</td>\n",
       "      <td>3</td>\n",
       "      <td>Wirz, Mr. Albert</td>\n",
       "      <td>male</td>\n",
       "      <td>27.0</td>\n",
       "      <td>0</td>\n",
       "      <td>0</td>\n",
       "      <td>315154</td>\n",
       "      <td>8.6625</td>\n",
       "      <td>NaN</td>\n",
       "      <td>S</td>\n",
       "    </tr>\n",
       "    <tr>\n",
       "      <th>4</th>\n",
       "      <td>896</td>\n",
       "      <td>3</td>\n",
       "      <td>Hirvonen, Mrs. Alexander (Helga E Lindqvist)</td>\n",
       "      <td>female</td>\n",
       "      <td>22.0</td>\n",
       "      <td>1</td>\n",
       "      <td>1</td>\n",
       "      <td>3101298</td>\n",
       "      <td>12.2875</td>\n",
       "      <td>NaN</td>\n",
       "      <td>S</td>\n",
       "    </tr>\n",
       "  </tbody>\n",
       "</table>\n",
       "</div>"
      ],
      "text/plain": [
       "   PassengerId  Pclass                                          Name     Sex  \\\n",
       "0          892       3                              Kelly, Mr. James    male   \n",
       "1          893       3              Wilkes, Mrs. James (Ellen Needs)  female   \n",
       "2          894       2                     Myles, Mr. Thomas Francis    male   \n",
       "3          895       3                              Wirz, Mr. Albert    male   \n",
       "4          896       3  Hirvonen, Mrs. Alexander (Helga E Lindqvist)  female   \n",
       "\n",
       "    Age  SibSp  Parch   Ticket     Fare Cabin Embarked  \n",
       "0  34.5      0      0   330911   7.8292   NaN        Q  \n",
       "1  47.0      1      0   363272   7.0000   NaN        S  \n",
       "2  62.0      0      0   240276   9.6875   NaN        Q  \n",
       "3  27.0      0      0   315154   8.6625   NaN        S  \n",
       "4  22.0      1      1  3101298  12.2875   NaN        S  "
      ]
     },
     "execution_count": 5,
     "metadata": {},
     "output_type": "execute_result"
    }
   ],
   "source": [
    "test_data = pd.read_csv(\"/kaggle/input/titanic/test.csv\")\n",
    "test_data.head()"
   ]
  },
  {
   "cell_type": "code",
   "execution_count": 6,
   "id": "213bc989",
   "metadata": {
    "execution": {
     "iopub.execute_input": "2021-09-26T04:55:01.656157Z",
     "iopub.status.busy": "2021-09-26T04:55:01.655520Z",
     "iopub.status.idle": "2021-09-26T04:55:01.686383Z",
     "shell.execute_reply": "2021-09-26T04:55:01.686804Z",
     "shell.execute_reply.started": "2021-09-26T04:54:34.564654Z"
    },
    "papermill": {
     "duration": 0.053591,
     "end_time": "2021-09-26T04:55:01.686969",
     "exception": false,
     "start_time": "2021-09-26T04:55:01.633378",
     "status": "completed"
    },
    "tags": []
   },
   "outputs": [
    {
     "name": "stdout",
     "output_type": "stream",
     "text": [
      "(418, 11)\n",
      "<class 'pandas.core.frame.DataFrame'>\n",
      "RangeIndex: 418 entries, 0 to 417\n",
      "Data columns (total 11 columns):\n",
      " #   Column       Non-Null Count  Dtype  \n",
      "---  ------       --------------  -----  \n",
      " 0   PassengerId  418 non-null    int64  \n",
      " 1   Pclass       418 non-null    int64  \n",
      " 2   Name         418 non-null    object \n",
      " 3   Sex          418 non-null    object \n",
      " 4   Age          332 non-null    float64\n",
      " 5   SibSp        418 non-null    int64  \n",
      " 6   Parch        418 non-null    int64  \n",
      " 7   Ticket       418 non-null    object \n",
      " 8   Fare         417 non-null    float64\n",
      " 9   Cabin        91 non-null     object \n",
      " 10  Embarked     418 non-null    object \n",
      "dtypes: float64(2), int64(4), object(5)\n",
      "memory usage: 36.0+ KB\n"
     ]
    },
    {
     "data": {
      "text/html": [
       "<div>\n",
       "<style scoped>\n",
       "    .dataframe tbody tr th:only-of-type {\n",
       "        vertical-align: middle;\n",
       "    }\n",
       "\n",
       "    .dataframe tbody tr th {\n",
       "        vertical-align: top;\n",
       "    }\n",
       "\n",
       "    .dataframe thead th {\n",
       "        text-align: right;\n",
       "    }\n",
       "</style>\n",
       "<table border=\"1\" class=\"dataframe\">\n",
       "  <thead>\n",
       "    <tr style=\"text-align: right;\">\n",
       "      <th></th>\n",
       "      <th>PassengerId</th>\n",
       "      <th>Pclass</th>\n",
       "      <th>Age</th>\n",
       "      <th>SibSp</th>\n",
       "      <th>Parch</th>\n",
       "      <th>Fare</th>\n",
       "    </tr>\n",
       "  </thead>\n",
       "  <tbody>\n",
       "    <tr>\n",
       "      <th>count</th>\n",
       "      <td>418.000000</td>\n",
       "      <td>418.000000</td>\n",
       "      <td>332.000000</td>\n",
       "      <td>418.000000</td>\n",
       "      <td>418.000000</td>\n",
       "      <td>417.000000</td>\n",
       "    </tr>\n",
       "    <tr>\n",
       "      <th>mean</th>\n",
       "      <td>1100.500000</td>\n",
       "      <td>2.265550</td>\n",
       "      <td>30.272590</td>\n",
       "      <td>0.447368</td>\n",
       "      <td>0.392344</td>\n",
       "      <td>35.627188</td>\n",
       "    </tr>\n",
       "    <tr>\n",
       "      <th>std</th>\n",
       "      <td>120.810458</td>\n",
       "      <td>0.841838</td>\n",
       "      <td>14.181209</td>\n",
       "      <td>0.896760</td>\n",
       "      <td>0.981429</td>\n",
       "      <td>55.907576</td>\n",
       "    </tr>\n",
       "    <tr>\n",
       "      <th>min</th>\n",
       "      <td>892.000000</td>\n",
       "      <td>1.000000</td>\n",
       "      <td>0.170000</td>\n",
       "      <td>0.000000</td>\n",
       "      <td>0.000000</td>\n",
       "      <td>0.000000</td>\n",
       "    </tr>\n",
       "    <tr>\n",
       "      <th>25%</th>\n",
       "      <td>996.250000</td>\n",
       "      <td>1.000000</td>\n",
       "      <td>21.000000</td>\n",
       "      <td>0.000000</td>\n",
       "      <td>0.000000</td>\n",
       "      <td>7.895800</td>\n",
       "    </tr>\n",
       "    <tr>\n",
       "      <th>50%</th>\n",
       "      <td>1100.500000</td>\n",
       "      <td>3.000000</td>\n",
       "      <td>27.000000</td>\n",
       "      <td>0.000000</td>\n",
       "      <td>0.000000</td>\n",
       "      <td>14.454200</td>\n",
       "    </tr>\n",
       "    <tr>\n",
       "      <th>75%</th>\n",
       "      <td>1204.750000</td>\n",
       "      <td>3.000000</td>\n",
       "      <td>39.000000</td>\n",
       "      <td>1.000000</td>\n",
       "      <td>0.000000</td>\n",
       "      <td>31.500000</td>\n",
       "    </tr>\n",
       "    <tr>\n",
       "      <th>max</th>\n",
       "      <td>1309.000000</td>\n",
       "      <td>3.000000</td>\n",
       "      <td>76.000000</td>\n",
       "      <td>8.000000</td>\n",
       "      <td>9.000000</td>\n",
       "      <td>512.329200</td>\n",
       "    </tr>\n",
       "  </tbody>\n",
       "</table>\n",
       "</div>"
      ],
      "text/plain": [
       "       PassengerId      Pclass         Age       SibSp       Parch        Fare\n",
       "count   418.000000  418.000000  332.000000  418.000000  418.000000  417.000000\n",
       "mean   1100.500000    2.265550   30.272590    0.447368    0.392344   35.627188\n",
       "std     120.810458    0.841838   14.181209    0.896760    0.981429   55.907576\n",
       "min     892.000000    1.000000    0.170000    0.000000    0.000000    0.000000\n",
       "25%     996.250000    1.000000   21.000000    0.000000    0.000000    7.895800\n",
       "50%    1100.500000    3.000000   27.000000    0.000000    0.000000   14.454200\n",
       "75%    1204.750000    3.000000   39.000000    1.000000    0.000000   31.500000\n",
       "max    1309.000000    3.000000   76.000000    8.000000    9.000000  512.329200"
      ]
     },
     "execution_count": 6,
     "metadata": {},
     "output_type": "execute_result"
    }
   ],
   "source": [
    "print(test_data.shape)\n",
    "test_data.info()\n",
    "test_data.describe()"
   ]
  },
  {
   "cell_type": "markdown",
   "id": "548b7847",
   "metadata": {
    "papermill": {
     "duration": 0.023754,
     "end_time": "2021-09-26T04:55:01.732595",
     "exception": false,
     "start_time": "2021-09-26T04:55:01.708841",
     "status": "completed"
    },
    "tags": []
   },
   "source": [
    "# Exploratory Data Analysis"
   ]
  },
  {
   "cell_type": "code",
   "execution_count": 7,
   "id": "ff3734cf",
   "metadata": {
    "execution": {
     "iopub.execute_input": "2021-09-26T04:55:01.785517Z",
     "iopub.status.busy": "2021-09-26T04:55:01.784862Z",
     "iopub.status.idle": "2021-09-26T04:55:01.840409Z",
     "shell.execute_reply": "2021-09-26T04:55:01.839538Z",
     "shell.execute_reply.started": "2021-09-26T04:54:34.604389Z"
    },
    "papermill": {
     "duration": 0.085266,
     "end_time": "2021-09-26T04:55:01.840591",
     "exception": false,
     "start_time": "2021-09-26T04:55:01.755325",
     "status": "completed"
    },
    "tags": []
   },
   "outputs": [
    {
     "name": "stdout",
     "output_type": "stream",
     "text": [
      "<class 'pandas.core.frame.DataFrame'>\n",
      "RangeIndex: 891 entries, 0 to 890\n",
      "Data columns (total 12 columns):\n",
      " #   Column       Non-Null Count  Dtype  \n",
      "---  ------       --------------  -----  \n",
      " 0   PassengerId  891 non-null    int64  \n",
      " 1   Survived     891 non-null    int64  \n",
      " 2   Pclass       891 non-null    int64  \n",
      " 3   Name         891 non-null    object \n",
      " 4   Sex          891 non-null    object \n",
      " 5   Age          891 non-null    float64\n",
      " 6   SibSp        891 non-null    int64  \n",
      " 7   Parch        891 non-null    int64  \n",
      " 8   Ticket       891 non-null    object \n",
      " 9   Fare         891 non-null    float64\n",
      " 10  Cabin        204 non-null    object \n",
      " 11  Embarked     889 non-null    object \n",
      "dtypes: float64(2), int64(5), object(5)\n",
      "memory usage: 83.7+ KB\n"
     ]
    },
    {
     "data": {
      "text/html": [
       "<div>\n",
       "<style scoped>\n",
       "    .dataframe tbody tr th:only-of-type {\n",
       "        vertical-align: middle;\n",
       "    }\n",
       "\n",
       "    .dataframe tbody tr th {\n",
       "        vertical-align: top;\n",
       "    }\n",
       "\n",
       "    .dataframe thead th {\n",
       "        text-align: right;\n",
       "    }\n",
       "</style>\n",
       "<table border=\"1\" class=\"dataframe\">\n",
       "  <thead>\n",
       "    <tr style=\"text-align: right;\">\n",
       "      <th></th>\n",
       "      <th>PassengerId</th>\n",
       "      <th>Survived</th>\n",
       "      <th>Pclass</th>\n",
       "      <th>Age</th>\n",
       "      <th>SibSp</th>\n",
       "      <th>Parch</th>\n",
       "      <th>Fare</th>\n",
       "    </tr>\n",
       "  </thead>\n",
       "  <tbody>\n",
       "    <tr>\n",
       "      <th>count</th>\n",
       "      <td>891.000000</td>\n",
       "      <td>891.000000</td>\n",
       "      <td>891.000000</td>\n",
       "      <td>891.000000</td>\n",
       "      <td>891.000000</td>\n",
       "      <td>891.000000</td>\n",
       "      <td>891.000000</td>\n",
       "    </tr>\n",
       "    <tr>\n",
       "      <th>mean</th>\n",
       "      <td>446.000000</td>\n",
       "      <td>0.383838</td>\n",
       "      <td>2.308642</td>\n",
       "      <td>29.699118</td>\n",
       "      <td>0.523008</td>\n",
       "      <td>0.381594</td>\n",
       "      <td>32.204208</td>\n",
       "    </tr>\n",
       "    <tr>\n",
       "      <th>std</th>\n",
       "      <td>257.353842</td>\n",
       "      <td>0.486592</td>\n",
       "      <td>0.836071</td>\n",
       "      <td>13.002015</td>\n",
       "      <td>1.102743</td>\n",
       "      <td>0.806057</td>\n",
       "      <td>49.693429</td>\n",
       "    </tr>\n",
       "    <tr>\n",
       "      <th>min</th>\n",
       "      <td>1.000000</td>\n",
       "      <td>0.000000</td>\n",
       "      <td>1.000000</td>\n",
       "      <td>0.420000</td>\n",
       "      <td>0.000000</td>\n",
       "      <td>0.000000</td>\n",
       "      <td>0.000000</td>\n",
       "    </tr>\n",
       "    <tr>\n",
       "      <th>25%</th>\n",
       "      <td>223.500000</td>\n",
       "      <td>0.000000</td>\n",
       "      <td>2.000000</td>\n",
       "      <td>22.000000</td>\n",
       "      <td>0.000000</td>\n",
       "      <td>0.000000</td>\n",
       "      <td>7.910400</td>\n",
       "    </tr>\n",
       "    <tr>\n",
       "      <th>50%</th>\n",
       "      <td>446.000000</td>\n",
       "      <td>0.000000</td>\n",
       "      <td>3.000000</td>\n",
       "      <td>29.699118</td>\n",
       "      <td>0.000000</td>\n",
       "      <td>0.000000</td>\n",
       "      <td>14.454200</td>\n",
       "    </tr>\n",
       "    <tr>\n",
       "      <th>75%</th>\n",
       "      <td>668.500000</td>\n",
       "      <td>1.000000</td>\n",
       "      <td>3.000000</td>\n",
       "      <td>35.000000</td>\n",
       "      <td>1.000000</td>\n",
       "      <td>0.000000</td>\n",
       "      <td>31.000000</td>\n",
       "    </tr>\n",
       "    <tr>\n",
       "      <th>max</th>\n",
       "      <td>891.000000</td>\n",
       "      <td>1.000000</td>\n",
       "      <td>3.000000</td>\n",
       "      <td>80.000000</td>\n",
       "      <td>8.000000</td>\n",
       "      <td>6.000000</td>\n",
       "      <td>512.329200</td>\n",
       "    </tr>\n",
       "  </tbody>\n",
       "</table>\n",
       "</div>"
      ],
      "text/plain": [
       "       PassengerId    Survived      Pclass         Age       SibSp  \\\n",
       "count   891.000000  891.000000  891.000000  891.000000  891.000000   \n",
       "mean    446.000000    0.383838    2.308642   29.699118    0.523008   \n",
       "std     257.353842    0.486592    0.836071   13.002015    1.102743   \n",
       "min       1.000000    0.000000    1.000000    0.420000    0.000000   \n",
       "25%     223.500000    0.000000    2.000000   22.000000    0.000000   \n",
       "50%     446.000000    0.000000    3.000000   29.699118    0.000000   \n",
       "75%     668.500000    1.000000    3.000000   35.000000    1.000000   \n",
       "max     891.000000    1.000000    3.000000   80.000000    8.000000   \n",
       "\n",
       "            Parch        Fare  \n",
       "count  891.000000  891.000000  \n",
       "mean     0.381594   32.204208  \n",
       "std      0.806057   49.693429  \n",
       "min      0.000000    0.000000  \n",
       "25%      0.000000    7.910400  \n",
       "50%      0.000000   14.454200  \n",
       "75%      0.000000   31.000000  \n",
       "max      6.000000  512.329200  "
      ]
     },
     "execution_count": 7,
     "metadata": {},
     "output_type": "execute_result"
    }
   ],
   "source": [
    "#cleaning the training data\n",
    "train_data['Age'] = train_data['Age'].fillna(train_data['Age'].mean())\n",
    "train_data['Sex'].astype('category')\n",
    "train_data['Pclass'].astype('category')\n",
    "\n",
    "train_data.drop('Ticket', axis = 1)\n",
    "train_data.drop('Embarked', axis = 1)\n",
    "train_data.drop('Cabin', axis = 1)\n",
    "train_data.info()\n",
    "train_data.describe()"
   ]
  },
  {
   "cell_type": "code",
   "execution_count": 8,
   "id": "ab4fe640",
   "metadata": {
    "execution": {
     "iopub.execute_input": "2021-09-26T04:55:01.887586Z",
     "iopub.status.busy": "2021-09-26T04:55:01.886705Z",
     "iopub.status.idle": "2021-09-26T04:55:01.925495Z",
     "shell.execute_reply": "2021-09-26T04:55:01.925995Z",
     "shell.execute_reply.started": "2021-09-26T04:54:34.650981Z"
    },
    "papermill": {
     "duration": 0.063225,
     "end_time": "2021-09-26T04:55:01.926151",
     "exception": false,
     "start_time": "2021-09-26T04:55:01.862926",
     "status": "completed"
    },
    "tags": []
   },
   "outputs": [
    {
     "name": "stdout",
     "output_type": "stream",
     "text": [
      "<class 'pandas.core.frame.DataFrame'>\n",
      "RangeIndex: 418 entries, 0 to 417\n",
      "Data columns (total 10 columns):\n",
      " #   Column       Non-Null Count  Dtype  \n",
      "---  ------       --------------  -----  \n",
      " 0   PassengerId  418 non-null    int64  \n",
      " 1   Pclass       418 non-null    int64  \n",
      " 2   Name         418 non-null    object \n",
      " 3   Sex          418 non-null    object \n",
      " 4   Age          418 non-null    float64\n",
      " 5   SibSp        418 non-null    int64  \n",
      " 6   Parch        418 non-null    int64  \n",
      " 7   Ticket       418 non-null    object \n",
      " 8   Fare         418 non-null    float64\n",
      " 9   Embarked     418 non-null    object \n",
      "dtypes: float64(2), int64(4), object(4)\n",
      "memory usage: 32.8+ KB\n"
     ]
    },
    {
     "data": {
      "text/html": [
       "<div>\n",
       "<style scoped>\n",
       "    .dataframe tbody tr th:only-of-type {\n",
       "        vertical-align: middle;\n",
       "    }\n",
       "\n",
       "    .dataframe tbody tr th {\n",
       "        vertical-align: top;\n",
       "    }\n",
       "\n",
       "    .dataframe thead th {\n",
       "        text-align: right;\n",
       "    }\n",
       "</style>\n",
       "<table border=\"1\" class=\"dataframe\">\n",
       "  <thead>\n",
       "    <tr style=\"text-align: right;\">\n",
       "      <th></th>\n",
       "      <th>PassengerId</th>\n",
       "      <th>Pclass</th>\n",
       "      <th>Age</th>\n",
       "      <th>SibSp</th>\n",
       "      <th>Parch</th>\n",
       "      <th>Fare</th>\n",
       "    </tr>\n",
       "  </thead>\n",
       "  <tbody>\n",
       "    <tr>\n",
       "      <th>count</th>\n",
       "      <td>418.000000</td>\n",
       "      <td>418.000000</td>\n",
       "      <td>418.000000</td>\n",
       "      <td>418.000000</td>\n",
       "      <td>418.000000</td>\n",
       "      <td>418.000000</td>\n",
       "    </tr>\n",
       "    <tr>\n",
       "      <th>mean</th>\n",
       "      <td>1100.500000</td>\n",
       "      <td>2.265550</td>\n",
       "      <td>30.272590</td>\n",
       "      <td>0.447368</td>\n",
       "      <td>0.392344</td>\n",
       "      <td>35.627188</td>\n",
       "    </tr>\n",
       "    <tr>\n",
       "      <th>std</th>\n",
       "      <td>120.810458</td>\n",
       "      <td>0.841838</td>\n",
       "      <td>12.634534</td>\n",
       "      <td>0.896760</td>\n",
       "      <td>0.981429</td>\n",
       "      <td>55.840500</td>\n",
       "    </tr>\n",
       "    <tr>\n",
       "      <th>min</th>\n",
       "      <td>892.000000</td>\n",
       "      <td>1.000000</td>\n",
       "      <td>0.170000</td>\n",
       "      <td>0.000000</td>\n",
       "      <td>0.000000</td>\n",
       "      <td>0.000000</td>\n",
       "    </tr>\n",
       "    <tr>\n",
       "      <th>25%</th>\n",
       "      <td>996.250000</td>\n",
       "      <td>1.000000</td>\n",
       "      <td>23.000000</td>\n",
       "      <td>0.000000</td>\n",
       "      <td>0.000000</td>\n",
       "      <td>7.895800</td>\n",
       "    </tr>\n",
       "    <tr>\n",
       "      <th>50%</th>\n",
       "      <td>1100.500000</td>\n",
       "      <td>3.000000</td>\n",
       "      <td>30.272590</td>\n",
       "      <td>0.000000</td>\n",
       "      <td>0.000000</td>\n",
       "      <td>14.454200</td>\n",
       "    </tr>\n",
       "    <tr>\n",
       "      <th>75%</th>\n",
       "      <td>1204.750000</td>\n",
       "      <td>3.000000</td>\n",
       "      <td>35.750000</td>\n",
       "      <td>1.000000</td>\n",
       "      <td>0.000000</td>\n",
       "      <td>31.500000</td>\n",
       "    </tr>\n",
       "    <tr>\n",
       "      <th>max</th>\n",
       "      <td>1309.000000</td>\n",
       "      <td>3.000000</td>\n",
       "      <td>76.000000</td>\n",
       "      <td>8.000000</td>\n",
       "      <td>9.000000</td>\n",
       "      <td>512.329200</td>\n",
       "    </tr>\n",
       "  </tbody>\n",
       "</table>\n",
       "</div>"
      ],
      "text/plain": [
       "       PassengerId      Pclass         Age       SibSp       Parch        Fare\n",
       "count   418.000000  418.000000  418.000000  418.000000  418.000000  418.000000\n",
       "mean   1100.500000    2.265550   30.272590    0.447368    0.392344   35.627188\n",
       "std     120.810458    0.841838   12.634534    0.896760    0.981429   55.840500\n",
       "min     892.000000    1.000000    0.170000    0.000000    0.000000    0.000000\n",
       "25%     996.250000    1.000000   23.000000    0.000000    0.000000    7.895800\n",
       "50%    1100.500000    3.000000   30.272590    0.000000    0.000000   14.454200\n",
       "75%    1204.750000    3.000000   35.750000    1.000000    0.000000   31.500000\n",
       "max    1309.000000    3.000000   76.000000    8.000000    9.000000  512.329200"
      ]
     },
     "execution_count": 8,
     "metadata": {},
     "output_type": "execute_result"
    }
   ],
   "source": [
    "#cleaning the test data\n",
    "test_data['Age'] = test_data['Age'].fillna(test_data['Age'].mean())\n",
    "test_data['Fare'] = test_data['Fare'].fillna(test_data['Fare'].mean())\n",
    "\n",
    "test_data['Sex'].astype('category')\n",
    "test_data['Pclass'].astype('category')\n",
    "\n",
    "train_data.drop('Ticket', axis = 1)\n",
    "train_data.drop('Embarked', axis = 1)\n",
    "test_data.drop('Cabin', axis = 1, inplace = True)\n",
    "test_data.info()\n",
    "test_data.describe()"
   ]
  },
  {
   "cell_type": "code",
   "execution_count": 9,
   "id": "727af1e5",
   "metadata": {
    "execution": {
     "iopub.execute_input": "2021-09-26T04:55:01.979667Z",
     "iopub.status.busy": "2021-09-26T04:55:01.979049Z",
     "iopub.status.idle": "2021-09-26T04:55:01.983709Z",
     "shell.execute_reply": "2021-09-26T04:55:01.983216Z",
     "shell.execute_reply.started": "2021-09-26T04:54:34.697473Z"
    },
    "papermill": {
     "duration": 0.035051,
     "end_time": "2021-09-26T04:55:01.983868",
     "exception": false,
     "start_time": "2021-09-26T04:55:01.948817",
     "status": "completed"
    },
    "tags": []
   },
   "outputs": [
    {
     "name": "stdout",
     "output_type": "stream",
     "text": [
      "% of women who survived: 0.7420382165605095\n",
      "% of men who survived: 0.18890814558058924\n"
     ]
    }
   ],
   "source": [
    "#determining if one gender had a higher survival ratio to see if ratio plays a big role in one's chances of survival\n",
    "women = train_data.loc[train_data.Sex == 'female']['Survived']\n",
    "rate_women = sum(women)/len(women)\n",
    "\n",
    "men = train_data.loc[train_data.Sex == 'male']['Survived']\n",
    "rate_men = sum(men)/len(men)\n",
    "\n",
    "print(\"% of women who survived:\", rate_women)\n",
    "print('% of men who survived:', rate_men)"
   ]
  },
  {
   "cell_type": "code",
   "execution_count": 10,
   "id": "ddcd89f8",
   "metadata": {
    "execution": {
     "iopub.execute_input": "2021-09-26T04:55:02.045995Z",
     "iopub.status.busy": "2021-09-26T04:55:02.045386Z",
     "iopub.status.idle": "2021-09-26T04:55:02.049341Z",
     "shell.execute_reply": "2021-09-26T04:55:02.050067Z",
     "shell.execute_reply.started": "2021-09-26T04:54:34.709666Z"
    },
    "papermill": {
     "duration": 0.043743,
     "end_time": "2021-09-26T04:55:02.050284",
     "exception": false,
     "start_time": "2021-09-26T04:55:02.006541",
     "status": "completed"
    },
    "tags": []
   },
   "outputs": [
    {
     "name": "stdout",
     "output_type": "stream",
     "text": [
      "1    0.242424\n",
      "2    0.206510\n",
      "3    0.551066\n",
      "Name: Pclass, dtype: float64\n",
      "0    0.616162\n",
      "1    0.383838\n",
      "Name: Survived, dtype: float64\n",
      "female    0.352413\n",
      "male      0.647587\n",
      "Name: Sex, dtype: float64\n",
      "0    0.682379\n",
      "1    0.234568\n",
      "2    0.031425\n",
      "3    0.017957\n",
      "4    0.020202\n",
      "5    0.005612\n",
      "8    0.007856\n",
      "Name: SibSp, dtype: float64\n",
      "0    0.760943\n",
      "1    0.132435\n",
      "2    0.089787\n",
      "3    0.005612\n",
      "4    0.004489\n",
      "5    0.005612\n",
      "6    0.001122\n",
      "Name: Parch, dtype: float64\n",
      "C      0.188552\n",
      "Q      0.086420\n",
      "S      0.722783\n",
      "NaN    0.002245\n",
      "Name: Embarked, dtype: float64\n"
     ]
    }
   ],
   "source": [
    "data_categories = ['Pclass', 'Survived', 'Sex', 'SibSp', 'Parch', 'Embarked']\n",
    "\n",
    "for category in data_categories:\n",
    "    print(train_data[category].value_counts(dropna = False, normalize = True).sort_index())"
   ]
  },
  {
   "cell_type": "code",
   "execution_count": 11,
   "id": "87cea855",
   "metadata": {
    "execution": {
     "iopub.execute_input": "2021-09-26T04:55:02.099301Z",
     "iopub.status.busy": "2021-09-26T04:55:02.098676Z",
     "iopub.status.idle": "2021-09-26T04:55:02.416200Z",
     "shell.execute_reply": "2021-09-26T04:55:02.416650Z",
     "shell.execute_reply.started": "2021-09-26T04:54:34.729848Z"
    },
    "papermill": {
     "duration": 0.343208,
     "end_time": "2021-09-26T04:55:02.416817",
     "exception": false,
     "start_time": "2021-09-26T04:55:02.073609",
     "status": "completed"
    },
    "tags": []
   },
   "outputs": [
    {
     "data": {
      "image/png": "[encoded data removed]",
      "text/plain": [
       "<Figure size 432x288 with 1 Axes>"
      ]
     },
     "metadata": {
      "needs_background": "light"
     },
     "output_type": "display_data"
    }
   ],
   "source": [
    "#Looking at the ratios to survived and didn't by age to see if age plays into the chances of someone survivng.\n",
    "sns.histplot(data = train_data, x = 'Age', bins = 24, hue = 'Survived')\n",
    "plt.show()"
   ]
  },
  {
   "cell_type": "code",
   "execution_count": 12,
   "id": "1bdfe7cc",
   "metadata": {
    "execution": {
     "iopub.execute_input": "2021-09-26T04:55:02.465592Z",
     "iopub.status.busy": "2021-09-26T04:55:02.465020Z",
     "iopub.status.idle": "2021-09-26T04:55:03.035454Z",
     "shell.execute_reply": "2021-09-26T04:55:03.034922Z",
     "shell.execute_reply.started": "2021-09-26T04:54:35.106165Z"
    },
    "papermill": {
     "duration": 0.596023,
     "end_time": "2021-09-26T04:55:03.035577",
     "exception": false,
     "start_time": "2021-09-26T04:55:02.439554",
     "status": "completed"
    },
    "tags": []
   },
   "outputs": [
    {
     "data": {
      "text/plain": [
       "<seaborn.axisgrid.FacetGrid at 0x7f3cf168b450>"
      ]
     },
     "execution_count": 12,
     "metadata": {},
     "output_type": "execute_result"
    },
    {
     "data": {
      "image/png": "[encoded data removed]",
      "text/plain": [
       "<Figure size 411.875x720 with 2 Axes>"
      ]
     },
     "metadata": {
      "needs_background": "light"
     },
     "output_type": "display_data"
    }
   ],
   "source": [
    "#Determinig if Pclass and gender correlates to a person's chance of surviing\n",
    "sns.catplot(data=train_data, x=\"Pclass\", row='Sex', hue ='Survived', kind =\"count\")"
   ]
  },
  {
   "cell_type": "markdown",
   "id": "22887eb1",
   "metadata": {
    "papermill": {
     "duration": 0.024996,
     "end_time": "2021-09-26T04:55:03.085313",
     "exception": false,
     "start_time": "2021-09-26T04:55:03.060317",
     "status": "completed"
    },
    "tags": []
   },
   "source": [
    "# Building The Models"
   ]
  },
  {
   "cell_type": "code",
   "execution_count": 13,
   "id": "23fbe8be",
   "metadata": {
    "execution": {
     "iopub.execute_input": "2021-09-26T04:55:03.138168Z",
     "iopub.status.busy": "2021-09-26T04:55:03.137588Z",
     "iopub.status.idle": "2021-09-26T04:55:03.206036Z",
     "shell.execute_reply": "2021-09-26T04:55:03.206461Z",
     "shell.execute_reply.started": "2021-09-26T04:54:35.683657Z"
    },
    "papermill": {
     "duration": 0.097026,
     "end_time": "2021-09-26T04:55:03.206624",
     "exception": false,
     "start_time": "2021-09-26T04:55:03.109598",
     "status": "completed"
    },
    "tags": []
   },
   "outputs": [
    {
     "name": "stdout",
     "output_type": "stream",
     "text": [
      "KNeighbors Classifier accuracy: 0.8484848484848485\n"
     ]
    }
   ],
   "source": [
    "#creating the feature list and setting up X and y for all the models\n",
    "features = ['Sex', 'Age', 'Pclass','Fare']\n",
    "\n",
    "X = pd.get_dummies(train_data[features])\n",
    "X_test = pd.get_dummies(test_data[features])\n",
    "y = train_data['Survived']\n",
    "\n",
    "#creatring the KNeighbors Classifier Model\n",
    "knn = KNeighborsClassifier(n_neighbors = 3)\n",
    "fitKnn = knn.fit(X, y)\n",
    "predictKnn = knn.predict(X_test)\n",
    "\n",
    "knnAcc = knn.score(X, y)\n",
    "\n",
    "print(\"KNeighbors Classifier accuracy:\", knnAcc)"
   ]
  },
  {
   "cell_type": "code",
   "execution_count": 14,
   "id": "5890da2e",
   "metadata": {
    "execution": {
     "iopub.execute_input": "2021-09-26T04:55:03.269276Z",
     "iopub.status.busy": "2021-09-26T04:55:03.268662Z",
     "iopub.status.idle": "2021-09-26T04:55:03.282156Z",
     "shell.execute_reply": "2021-09-26T04:55:03.281618Z",
     "shell.execute_reply.started": "2021-09-26T04:54:35.761733Z"
    },
    "papermill": {
     "duration": 0.050181,
     "end_time": "2021-09-26T04:55:03.282298",
     "exception": false,
     "start_time": "2021-09-26T04:55:03.232117",
     "status": "completed"
    },
    "tags": []
   },
   "outputs": [
    {
     "name": "stdout",
     "output_type": "stream",
     "text": [
      "Linear Regression Accuracy: 0.3834106117334738\n"
     ]
    }
   ],
   "source": [
    "#Linear Regression Model\n",
    "reg = LinearRegression()\n",
    "reg.fit(X, y)\n",
    "regPredict = reg.predict(X_test)\n",
    "\n",
    "regAcc = reg.score(X,y)\n",
    "\n",
    "print(\"Linear Regression Accuracy:\", regAcc)"
   ]
  },
  {
   "cell_type": "code",
   "execution_count": 15,
   "id": "12208712",
   "metadata": {
    "execution": {
     "iopub.execute_input": "2021-09-26T04:55:03.345264Z",
     "iopub.status.busy": "2021-09-26T04:55:03.344393Z",
     "iopub.status.idle": "2021-09-26T04:55:03.352688Z",
     "shell.execute_reply": "2021-09-26T04:55:03.353166Z",
     "shell.execute_reply.started": "2021-09-26T04:54:35.775576Z"
    },
    "papermill": {
     "duration": 0.044619,
     "end_time": "2021-09-26T04:55:03.353321",
     "exception": false,
     "start_time": "2021-09-26T04:55:03.308702",
     "status": "completed"
    },
    "tags": []
   },
   "outputs": [
    {
     "name": "stdout",
     "output_type": "stream",
     "text": [
      "Decision Tree Classifier Accuracy: 0.9797979797979798\n"
     ]
    }
   ],
   "source": [
    "#Decision Tree Classifier Model\n",
    "tree = DecisionTreeClassifier(random_state = 1)\n",
    "tree.fit(X, y)\n",
    "treePredict = tree.predict(X_test)\n",
    "treeAcc = tree.score(X,y)\n",
    "\n",
    "print('Decision Tree Classifier Accuracy:', treeAcc)"
   ]
  },
  {
   "cell_type": "code",
   "execution_count": 16,
   "id": "0038af32",
   "metadata": {
    "execution": {
     "iopub.execute_input": "2021-09-26T04:55:03.411848Z",
     "iopub.status.busy": "2021-09-26T04:55:03.410993Z",
     "iopub.status.idle": "2021-09-26T04:55:03.421652Z",
     "shell.execute_reply": "2021-09-26T04:55:03.422113Z",
     "shell.execute_reply.started": "2021-09-26T04:54:35.795269Z"
    },
    "papermill": {
     "duration": 0.042939,
     "end_time": "2021-09-26T04:55:03.422275",
     "exception": false,
     "start_time": "2021-09-26T04:55:03.379336",
     "status": "completed"
    },
    "tags": []
   },
   "outputs": [
    {
     "name": "stdout",
     "output_type": "stream",
     "text": [
      "SGD Classifier Accuracy: 0.38047138047138046\n"
     ]
    }
   ],
   "source": [
    "#SGDClassifier model\n",
    "sgd = SGDClassifier(random_state = 1)\n",
    "sgd.fit(X,y)\n",
    "sgdPredict = sgd.predict(X_test)\n",
    "sgdAcc = sgd.score(X, y)\n",
    "\n",
    "print('SGD Classifier Accuracy:', sgdAcc)"
   ]
  },
  {
   "cell_type": "code",
   "execution_count": 17,
   "id": "05d8bf88",
   "metadata": {
    "execution": {
     "iopub.execute_input": "2021-09-26T04:55:03.478158Z",
     "iopub.status.busy": "2021-09-26T04:55:03.477584Z",
     "iopub.status.idle": "2021-09-26T04:55:03.730215Z",
     "shell.execute_reply": "2021-09-26T04:55:03.729656Z",
     "shell.execute_reply.started": "2021-09-26T04:54:35.812427Z"
    },
    "papermill": {
     "duration": 0.283319,
     "end_time": "2021-09-26T04:55:03.730351",
     "exception": false,
     "start_time": "2021-09-26T04:55:03.447032",
     "status": "completed"
    },
    "tags": []
   },
   "outputs": [
    {
     "name": "stdout",
     "output_type": "stream",
     "text": [
      "Random Forest Classifier: 0.8496071829405163\n"
     ]
    }
   ],
   "source": [
    "from sklearn.ensemble import RandomForestClassifier\n",
    "#doing the tutorial Random Forest CLassifier cause why not\n",
    "\n",
    "model = RandomForestClassifier(n_estimators = 100, max_depth = 5, random_state = 1)\n",
    "model.fit(X, y)\n",
    "predictions = model.predict(X_test)\n",
    "modelAcc = model.score(X, y)\n",
    "\n",
    "print('Random Forest Classifier:', modelAcc)"
   ]
  },
  {
   "cell_type": "markdown",
   "id": "ebe7b2dc",
   "metadata": {
    "papermill": {
     "duration": 0.025871,
     "end_time": "2021-09-26T04:55:03.781590",
     "exception": false,
     "start_time": "2021-09-26T04:55:03.755719",
     "status": "completed"
    },
    "tags": []
   },
   "source": [
    "# Evaluating The Models"
   ]
  },
  {
   "cell_type": "code",
   "execution_count": 18,
   "id": "41910050",
   "metadata": {
    "execution": {
     "iopub.execute_input": "2021-09-26T04:55:03.836835Z",
     "iopub.status.busy": "2021-09-26T04:55:03.836253Z",
     "iopub.status.idle": "2021-09-26T04:55:03.841424Z",
     "shell.execute_reply": "2021-09-26T04:55:03.841893Z",
     "shell.execute_reply.started": "2021-09-26T04:54:36.070358Z"
    },
    "papermill": {
     "duration": 0.034229,
     "end_time": "2021-09-26T04:55:03.842065",
     "exception": false,
     "start_time": "2021-09-26T04:55:03.807836",
     "status": "completed"
    },
    "tags": []
   },
   "outputs": [],
   "source": [
    "#honestly I just looked at the scores and determined by which had the higher score, but this how to do it while all running at once\n",
    "scores = np.array([modelAcc,treeAcc, regAcc, knnAcc, sgdAcc])\n",
    "\n",
    "highestScore = 0\n",
    "\n",
    "for x in scores:\n",
    "    if x > highestScore:\n",
    "        highestScore = x\n",
    "        \n",
    "if highestScore == modelAcc:\n",
    "    bestModel = predictions\n",
    "elif highestScore == treeAcc:\n",
    "    bestModel = treePredict\n",
    "elif higestScore == regAcc:\n",
    "    bestModel == regPredict\n",
    "elif highestScore == knnAcc:\n",
    "    bestModel == predictKnn\n",
    "else:\n",
    "    bestModel == sgdAcc"
   ]
  },
  {
   "cell_type": "markdown",
   "id": "d7ab5483",
   "metadata": {
    "papermill": {
     "duration": 0.025305,
     "end_time": "2021-09-26T04:55:03.892810",
     "exception": false,
     "start_time": "2021-09-26T04:55:03.867505",
     "status": "completed"
    },
    "tags": []
   },
   "source": [
    "# Generating the submission"
   ]
  },
  {
   "cell_type": "code",
   "execution_count": 19,
   "id": "66fbe5e4",
   "metadata": {
    "execution": {
     "iopub.execute_input": "2021-09-26T04:55:03.947481Z",
     "iopub.status.busy": "2021-09-26T04:55:03.946957Z",
     "iopub.status.idle": "2021-09-26T04:55:03.956317Z",
     "shell.execute_reply": "2021-09-26T04:55:03.955803Z",
     "shell.execute_reply.started": "2021-09-26T04:54:36.078469Z"
    },
    "papermill": {
     "duration": 0.037954,
     "end_time": "2021-09-26T04:55:03.956451",
     "exception": false,
     "start_time": "2021-09-26T04:55:03.918497",
     "status": "completed"
    },
    "tags": []
   },
   "outputs": [
    {
     "name": "stdout",
     "output_type": "stream",
     "text": [
      "Your submission was succesfully saved!\n"
     ]
    }
   ],
   "source": [
    "#creating the output file for submitting\n",
    "output = pd.DataFrame({'PassengerId': test_data.PassengerId, 'Survived': bestModel})\n",
    "output.to_csv('submission.csv', index = False)\n",
    "print('Your submission was succesfully saved!')"
   ]
  }
 ],
 "metadata": {
  "kernelspec": {
   "display_name": "Python 3",
   "language": "python",
   "name": "python3"
  },
  "language_info": {
   "codemirror_mode": {
    "name": "ipython",
    "version": 3
   },
   "file_extension": ".py",
   "mimetype": "text/x-python",
   "name": "python",
   "nbconvert_exporter": "python",
   "pygments_lexer": "ipython3",
   "version": "3.7.10"
  },
  "papermill": {
   "default_parameters": {},
   "duration": 12.778775,
   "end_time": "2021-09-26T04:55:05.305558",
   "environment_variables": {},
   "exception": null,
   "input_path": "__notebook__.ipynb",
   "output_path": "__notebook__.ipynb",
   "parameters": {},
   "start_time": "2021-09-26T04:54:52.526783",
   "version": "2.3.3"
  }
 },
 "nbformat": 4,
 "nbformat_minor": 5
}
